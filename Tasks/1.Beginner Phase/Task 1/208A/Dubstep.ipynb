{
 "cells": [
  {
   "cell_type": "code",
   "execution_count": 9,
   "metadata": {},
   "outputs": [
    {
     "name": "stdout",
     "output_type": "stream",
     "text": [
      "WUBWEWUBAREWUBWUBTHEWUBCHAMPIONSWUBMYWUBFRIENDWUB\n",
      "WE ARE THE CHAMPIONS MY FRIEND\n"
     ]
    }
   ],
   "source": [
    "remix  = input()\n",
    "\n",
    "words = remix.split('WUB')\n",
    "\n",
    "words = [word for word in words if word != '']    # to remove ''\n",
    "\n",
    "original_song = ' '.join(words)\n",
    "\n",
    "print(original_song)"
   ]
  },
  {
   "cell_type": "code",
   "execution_count": null,
   "metadata": {},
   "outputs": [],
   "source": []
  }
 ],
 "metadata": {
  "kernelspec": {
   "display_name": "Python 3",
   "language": "python",
   "name": "python3"
  },
  "language_info": {
   "codemirror_mode": {
    "name": "ipython",
    "version": 3
   },
   "file_extension": ".py",
   "mimetype": "text/x-python",
   "name": "python",
   "nbconvert_exporter": "python",
   "pygments_lexer": "ipython3",
   "version": "3.8.3"
  }
 },
 "nbformat": 4,
 "nbformat_minor": 4
}
