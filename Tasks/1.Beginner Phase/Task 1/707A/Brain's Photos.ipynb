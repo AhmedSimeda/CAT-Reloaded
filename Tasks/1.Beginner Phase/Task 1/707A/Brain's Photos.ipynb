{
 "cells": [
  {
   "cell_type": "code",
   "execution_count": 5,
   "metadata": {},
   "outputs": [
    {
     "name": "stdout",
     "output_type": "stream",
     "text": [
      "1 1\n",
      "W\n",
      "#Black&White\n"
     ]
    }
   ],
   "source": [
    "rows = int(input().split()[0])\n",
    "colored = False\n",
    "\n",
    "for _ in range(rows):\n",
    "    row = input().split()\n",
    "    if (not colored) and (len(set(row)&{'C', 'M', 'Y'})>0):\n",
    "        colored = True\n",
    "\n",
    "if colored:\n",
    "    print(\"#Color\")\n",
    "else:\n",
    "    print(\"#Black&White\")"
   ]
  },
  {
   "cell_type": "code",
   "execution_count": null,
   "metadata": {},
   "outputs": [],
   "source": []
  }
 ],
 "metadata": {
  "kernelspec": {
   "display_name": "Python 3",
   "language": "python",
   "name": "python3"
  },
  "language_info": {
   "codemirror_mode": {
    "name": "ipython",
    "version": 3
   },
   "file_extension": ".py",
   "mimetype": "text/x-python",
   "name": "python",
   "nbconvert_exporter": "python",
   "pygments_lexer": "ipython3",
   "version": "3.8.3"
  }
 },
 "nbformat": 4,
 "nbformat_minor": 4
}
