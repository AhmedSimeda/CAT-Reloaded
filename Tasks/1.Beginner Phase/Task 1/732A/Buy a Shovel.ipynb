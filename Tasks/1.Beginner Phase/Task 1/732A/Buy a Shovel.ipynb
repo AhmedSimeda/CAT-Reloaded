{
 "cells": [
  {
   "cell_type": "code",
   "execution_count": 5,
   "metadata": {},
   "outputs": [
    {
     "name": "stdout",
     "output_type": "stream",
     "text": [
      "15 2\n",
      "2\n"
     ]
    }
   ],
   "source": [
    "# a helping function to determine whether there is no change or not\n",
    "def is_right(charge, r):\n",
    "    return (charge%10 == 0) or ((charge-r)%10 == 0)\n",
    "\n",
    "k, r = tuple(map(int, input().split()))\n",
    "\n",
    "charge = k\n",
    "n_shovel = 1\n",
    "while not is_right(charge, r):\n",
    "    n_shovel += 1\n",
    "    charge    = k*n_shovel\n",
    "    \n",
    "print(n_shovel)"
   ]
  },
  {
   "cell_type": "code",
   "execution_count": null,
   "metadata": {},
   "outputs": [],
   "source": []
  }
 ],
 "metadata": {
  "kernelspec": {
   "display_name": "Python 3",
   "language": "python",
   "name": "python3"
  },
  "language_info": {
   "codemirror_mode": {
    "name": "ipython",
    "version": 3
   },
   "file_extension": ".py",
   "mimetype": "text/x-python",
   "name": "python",
   "nbconvert_exporter": "python",
   "pygments_lexer": "ipython3",
   "version": "3.8.3"
  }
 },
 "nbformat": 4,
 "nbformat_minor": 4
}
